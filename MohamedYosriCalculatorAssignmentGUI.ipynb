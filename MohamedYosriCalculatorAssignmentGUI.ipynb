{
 "cells": [
  {
   "cell_type": "code",
   "execution_count": 58,
   "id": "199d0c1d-9d0d-4770-aef5-c6741e4c2f65",
   "metadata": {},
   "outputs": [],
   "source": [
    "import math\n",
    "e_const=math.e\n",
    "pi_const=math.pi\n",
    "import statistics\n",
    "import numpy as np\n",
    "from fractions import Fraction\n",
    "from decimal import Decimal\n",
    "\n",
    "def add(x, y):\n",
    "    last_result=x+y\n",
    "    return last_result\n",
    "\n",
    "def subtract(x, y):\n",
    "    last_result= x - y\n",
    "    return last_result\n",
    "\n",
    "def multiply(x, y):\n",
    "    last_result= x * y\n",
    "    return last_result\n",
    "\n",
    "def divide(x, y):\n",
    "    if y == 0:\n",
    "        return \"Error: Cannot divide by zero\"\n",
    "    else:\n",
    "        last_result= x / y\n",
    "        return last_result\n",
    "\n",
    "def power(x, y):\n",
    "    last_result= x ** y\n",
    "    return last_result\n",
    "\n",
    "def square_root(x):\n",
    "    last_result= math.sqrt(x)\n",
    "    return last_result\n",
    "\n",
    "def variable_root(x,y):\n",
    "    last_result= x**(1/y)\n",
    "    return last_result\n",
    "\n",
    "def sin(x):\n",
    "    last_result= math.sin(math.radians(x))\n",
    "    return last_result\n",
    "\n",
    "def cos(x):\n",
    "    last_result= math.cos(math.radians(x))\n",
    "    return last_result\n",
    "\n",
    "def tan(x):\n",
    "    last_result= math.tan(math.radians(x))\n",
    "    return last_result\n",
    "\n",
    "def sinh(x):\n",
    "    last_result= math.sinh(math.radians(x))\n",
    "    return last_result\n",
    "\n",
    "def cosh(x):\n",
    "    last_result= math.cosh(math.radians(x))\n",
    "    return last_result\n",
    "\n",
    "def tanh(x):\n",
    "    last_result= math.tanh(math.radians(x))\n",
    "    return last_result\n",
    "\n",
    "def logarithm(x):\n",
    "    last_result= math.log10(x)\n",
    "    return last_result\n",
    "\n",
    "def logarithm_base2(x):\n",
    "    last_result= math.log2(x)\n",
    "    return last_result\n",
    "\n",
    "def ln(x):\n",
    "    last_result= math.log(x)\n",
    "    return last_result\n",
    "\n",
    "def exponential(x):\n",
    "    last_result= e_const**x\n",
    "    return last_result\n",
    "\n",
    "def mean(*x):\n",
    "    last_result= statistics.mean(x)\n",
    "    return last_result\n",
    "\n",
    "def variance(*x):\n",
    "    last_result= statistics.variance(x)\n",
    "    return last_result\n",
    "\n",
    "def standard_deviation(*x):\n",
    "    last_result= statistics.stdev(x)\n",
    "    return last_result\n",
    "\n",
    "def decimal_value(x):\n",
    "    last_result= Decimal(x)\n",
    "    return last_result\n",
    "\n",
    "def fraction_value(x):\n",
    "    last_result= Fraction(x)\n",
    "    return last_result\n",
    "\n",
    "def factorial(x):\n",
    "    last_result=1\n",
    "    for i in range (1,x+1,1):\n",
    "        last_result*=i\n",
    "    return last_result\n",
    "\n",
    "def permutation(x,y):\n",
    "    z=x-y\n",
    "    last_result= factorial(x)/factorial(z)\n",
    "    return last_result\n",
    "\n",
    "def combination(x,y):\n",
    "    z=x-y\n",
    "    last_result= factorial(x)/(factorial(y)*factorial(z))\n",
    "    return last_result\n",
    "\n",
    "def meters_to_feet(meters):\n",
    "    last_result= meters * 3.28084\n",
    "    return last_result\n",
    "\n",
    "def feet_to_meters(feet):\n",
    "    last_result= feet / 3.28084\n",
    "    return last_result\n",
    "\n",
    "def kilograms_to_pounds(kilograms):\n",
    "    last_result= kilograms * 2.20462\n",
    "    return last_result\n",
    "\n",
    "def pounds_to_kilograms(pounds):\n",
    "    last_result= pounds / 2.20462\n",
    "    return last_result\n",
    "\n",
    "def liters_to_gallons(liters):\n",
    "    last_result= liters * 0.264172\n",
    "    return last_result\n",
    "\n",
    "def gallons_to_liters(gallons):\n",
    "    last_result= gallons / 0.264172\n",
    "    return last_result\n",
    "\n",
    "def solve_linear_eqn(a, b):\n",
    "    if a == 0:\n",
    "        raise ValueError(\"Coefficient 'a' cannot be zero.\")\n",
    "    return -b / a\n",
    "\n",
    "def solve_quadratic_eqn(a, b, c):\n",
    "    discriminant = b**2 - 4*a*c\n",
    "    if discriminant > 0:\n",
    "        root1 = (-b + math.sqrt(discriminant)) / (2*a)\n",
    "        root2 = (-b - math.sqrt(discriminant)) / (2*a)\n",
    "        return root1, root2\n",
    "    elif discriminant == 0:\n",
    "        root = -b / (2*a)\n",
    "        return root,\n",
    "    else:\n",
    "        realPart = -b / (2*a)\n",
    "        imaginaryPart = math.sqrt(-discriminant) / (2*a)\n",
    "        return (realPart + imaginaryPart*1j, realPart - imaginaryPart*1j)\n",
    "def find_polynomial_eqn(a,b,c):\n",
    "    coefficients=[a,b,c]\n",
    "    roots = np.roots(coefficients)\n",
    "    return roots\n",
    "\n",
    "def matrix_addition(matrix1,matrix2):\n",
    "    return np.add(matrix1, matrix2)\n",
    "\n",
    "def matrix_subtraction(matrix1,matrix2):\n",
    "    return np.subtract(matrix1, matrix2)\n",
    "\n",
    "def matrix_multiplication(matrix1,matrix2):\n",
    "    return np.dot(matrix1, matrix2)\n",
    "\n",
    "def matrix_det(matrix):\n",
    "    return np.linalg.det(matrix)\n",
    "\n",
    "def matrix_inv(matrix):\n",
    "    try:\n",
    "     result=np.linalg.inv(matrix)\n",
    "    except np.linalg.LinAlgError:\n",
    "     result='error'\n",
    "    return result\n",
    "\n",
    "def matrix_transpose(matrix):\n",
    "    return np.transpose(matrix)\n",
    "\n",
    "def show_operations():\n",
    "    print(\"Available operations:\")\n",
    "    print(\"1. Addition (+)\")\n",
    "    print(\"2. Subtraction (-)\")\n",
    "    print(\"3. Multiplication (*)\")\n",
    "    print(\"4. Division (/)\")\n",
    "    print(\"5. Power (^)\")\n",
    "    print(\"6. Square Root (sqrt)\")\n",
    "    print(\"7. Variable Root (root)\")\n",
    "    print(\"8. Sine (sin)\")\n",
    "    print(\"9. Cosine (cos)\")\n",
    "    print(\"10. Tangent (tan)\")\n",
    "    print(\"11. Hyperbolic Sine (sinh)\")\n",
    "    print(\"12. Hyperbolic Cosine (cosh)\")\n",
    "    print(\"13. Hyperbolic Tangent (tanh)\")\n",
    "    print(\"14. Logarithm (log10)\")\n",
    "    print(\"15. Logarithm Base 2 (log2)\")\n",
    "    print(\"16. Natural Logarithm (ln)\")\n",
    "    print(\"17. Exponential (exp)\")\n",
    "    print(\"18. Mean (mean)\")\n",
    "    print(\"19. Variance (variance)\")\n",
    "    print(\"20. Standard Deviation (stdev)\")\n",
    "    print(\"21. Decimal Value (decimal)\")\n",
    "    print(\"22. Fraction Value (fraction)\")\n",
    "    print(\"23. Factorial (factorial)\")\n",
    "    print(\"24. Permutation (perm)\")\n",
    "    print(\"25. Combination (comb)\")\n",
    "    print(\"26. Meters to Feet (m2ft)\")\n",
    "    print(\"27. Feet to Meters (ft2m)\")\n",
    "    print(\"28. Kilograms to Pounds (kg2lb)\")\n",
    "    print(\"29. Pounds to Kilograms (lb2kg)\")\n",
    "    print(\"30. Liters to Gallons (L2G)\")\n",
    "    print(\"31. Gallons to Liters (G2L)\")\n",
    "    print(\"32. Solve Linear Equation (linear)\")\n",
    "    print(\"33. Solve Quadratic Equation (quadratic)\")\n",
    "    print(\"34. Find Polynomial Roots (polynomial)\")\n",
    "    print(\"35. Matrix Addition (mat_add)\")\n",
    "    print(\"36. Matrix Subtraction (mat_sub)\")\n",
    "    print(\"37. Matrix Multiplication (mat_mul)\")\n",
    "    print(\"38. Matrix Determinant (mat_det)\")\n",
    "    print(\"39. Matrix Inverse (mat_inv)\")\n",
    "    print(\"40. Matrix Transpose (mat_trans)\")\n",
    "    print(\"41. Store to Memory (M)\")\n",
    "    print(\"42. Recall Memory (MR)\")\n",
    "    print(\"43. Add to Memory (M+)\")\n",
    "    print(\"44. Subtract from Memory (M-)\")\n",
    "    print(\"45. Clear Memory (MC)\")\n",
    "    print(\"46. Exit (q)\")\n",
    "\n",
    "def calculator():\n",
    "    show_operations()\n",
    "\n",
    "    memory = 0  \n",
    "    last_result=0\n",
    "    while True:\n",
    "        choice = input(\"Enter your choice: \").strip().lower()\n",
    "\n",
    "        if choice == 'q':\n",
    "            print(\"Goodbye!\")\n",
    "            break\n",
    "        elif choice in ['+', '-', '*', '/', '^']:\n",
    "            x = float(input(\"Enter first number: \"))\n",
    "            y = float(input(\"Enter second number: \"))\n",
    "            if choice == '+':\n",
    "                print(f\"Result: {add(x, y)}\")\n",
    "                last_result=add(x, y)\n",
    "            elif choice == '-':\n",
    "                print(f\"Result: {subtract(x, y)}\")\n",
    "                last_result=subtract(x, y)\n",
    "            elif choice == '*':\n",
    "                print(f\"Result: {multiply(x, y)}\")\n",
    "                last_result=multiply(x, y)\n",
    "            elif choice == '/':\n",
    "                print(f\"Result: {divide(x, y)}\")\n",
    "                last_result=divide(x, y)\n",
    "            elif choice == '^':\n",
    "                print(f\"Result: {power(x, y)}\")\n",
    "                last_result=power(x, y)\n",
    "        elif choice == 'sqrt':\n",
    "            x = float(input(\"Enter number: \"))\n",
    "            print(f\"Result: {square_root(x)}\")\n",
    "            last_result=square_root(x)\n",
    "        elif choice == 'root':\n",
    "            x = float(input(\"Enter base: \"))\n",
    "            y = float(input(\"Enter root: \"))\n",
    "            print(f\"Result: {variable_root(x, y)}\")\n",
    "            last_result=variable_root(x, y)\n",
    "        elif choice == 'sin':\n",
    "            x = float(input(\"Enter angle (degrees): \"))\n",
    "            print(f\"Result: {sin(x)}\")\n",
    "            last_result=sin(x)\n",
    "        elif choice == 'cos':\n",
    "            x = float(input(\"Enter angle (degrees): \"))\n",
    "            print(f\"Result: {cos(x)}\")\n",
    "            last_result=cos(x)\n",
    "        elif choice == 'tan':\n",
    "            x = float(input(\"Enter angle (degrees): \"))\n",
    "            print(f\"Result: {tan(x)}\")\n",
    "            last_result=tan(x)\n",
    "        elif choice == 'sinh':\n",
    "            x = float(input(\"Enter angle (degrees): \"))\n",
    "            print(f\"Result: {sinh(x)}\")\n",
    "            last_result=sinh(x)\n",
    "        elif choice == 'cosh':\n",
    "            x = float(input(\"Enter angle (degrees): \"))\n",
    "            print(f\"Result: {cosh(x)}\")\n",
    "            last_result=cosh(x)\n",
    "        elif choice == 'tanh':\n",
    "            x = float(input(\"Enter angle (degrees): \"))\n",
    "            print(f\"Result: {tanh(x)}\")\n",
    "            last_result=tanh(x)\n",
    "        elif choice == 'log10':\n",
    "            x = float(input(\"Enter number: \"))\n",
    "            print(f\"Result: {logarithm(x)}\")\n",
    "            last_result=logarithm(x)\n",
    "        elif choice == 'log2':\n",
    "            x = float(input(\"Enter number: \"))\n",
    "            print(f\"Result: {logarithm_base2(x)}\")\n",
    "            last_result=logarithm_base2(x)\n",
    "        elif choice == 'ln':\n",
    "            x = float(input(\"Enter number: \"))\n",
    "            print(f\"Result: {ln(x)}\")\n",
    "            last_result=ln(x)\n",
    "        elif choice == 'exp':\n",
    "            x = float(input(\"Enter exponent: \"))\n",
    "            print(f\"Result: {exponential(x)}\")\n",
    "            last_result=exponential(x)\n",
    "        elif choice == 'mean':\n",
    "            nums = list(map(float, input(\"Enter numbers separated by spaces: \").split()))\n",
    "            print(f\"Result: {mean(*nums)}\")\n",
    "            last_result=mean(*nums)\n",
    "        elif choice == 'variance':\n",
    "            nums = list(map(float, input(\"Enter numbers separated by spaces: \").split()))\n",
    "            print(f\"Result: {variance(*nums)}\")\n",
    "            last_result=variance(*nums)\n",
    "        elif choice == 'stdev':\n",
    "            nums = list(map(float, input(\"Enter numbers separated by spaces: \").split()))\n",
    "            print(f\"Result: {standard_deviation(*nums)}\")\n",
    "            last_result=standard_deviation(*nums)\n",
    "        elif choice == 'decimal':\n",
    "            x = input(\"Enter number: \")\n",
    "            print(f\"Result: {decimal_value(x)}\")\n",
    "            last_result=decimal_value(x)\n",
    "        elif choice == 'fraction':\n",
    "            x = input(\"Enter number: \")\n",
    "            print(f\"Result: {fraction_value(x)}\")\n",
    "            last_result=fraction_value(x)\n",
    "        elif choice == 'factorial':\n",
    "            x = int(input(\"Enter number: \"))\n",
    "            print(f\"Result: {factorial(x)}\")\n",
    "            last_result=factorial(x)\n",
    "        elif choice == 'perm':\n",
    "            x = int(input(\"Enter n: \"))\n",
    "            y = int(input(\"Enter r: \"))\n",
    "            print(f\"Result: {permutation(x, y)}\")\n",
    "            last_result=permutation(x, y)\n",
    "        elif choice == 'comb':\n",
    "            x = int(input(\"Enter n: \"))\n",
    "            y = int(input(\"Enter r: \"))\n",
    "            print(f\"Result: {combination(x, y)}\")\n",
    "            last_result=combination(x, y)\n",
    "        elif choice == 'm2ft':\n",
    "            meters = float(input(\"Enter meters: \"))\n",
    "            print(f\"Result: {meters_to_feet(meters)}\")\n",
    "            last_result=meters_to_feet(meters)\n",
    "        elif choice == 'ft2m':\n",
    "            feet = float(input(\"Enter feet: \"))\n",
    "            print(f\"Result: {feet_to_meters(feet)}\")\n",
    "            last_result=feet_to_meters(feet)\n",
    "        elif choice == 'kg2lb':\n",
    "            kilograms = float(input(\"Enter kilograms: \"))\n",
    "            print(f\"Result: {kilograms_to_pounds(kilograms)}\")\n",
    "            last_result=kilograms_to_pounds(kilograms)\n",
    "        elif choice == 'lb2kg':\n",
    "            pounds = float(input(\"Enter pounds: \"))\n",
    "            print(f\"Result: {pounds_to_kilograms(pounds)}\")\n",
    "            last_result=pounds_to_kilograms(pounds)\n",
    "        elif choice == 'l2g':\n",
    "            liters = float(input(\"Enter liters: \"))\n",
    "            print(f\"Result: {liters_to_gallons(liters)}\")\n",
    "            last_result=liters_to_gallons(liters)\n",
    "        elif choice == 'g2l':\n",
    "            gallons = float(input(\"Enter gallons: \"))\n",
    "            print(f\"Result: {gallons_to_liters(gallons)}\")\n",
    "            last_result=gallons_to_liters(gallons)\n",
    "        elif choice == 'linear':\n",
    "            a = float(input(\"Enter coefficient a: \"))\n",
    "            b = float(input(\"Enter coefficient b: \"))\n",
    "            print(f\"Result: {solve_linear_eqn(a, b)}\")\n",
    "        elif choice == 'quadratic':\n",
    "            a = float(input(\"Enter coefficient a: \"))\n",
    "            b = float(input(\"Enter coefficient b: \"))\n",
    "            c = float(input(\"Enter coefficient c: \"))\n",
    "            print(f\"Result: {solve_quadratic_eqn(a, b, c)}\")\n",
    "        elif choice == 'polynomial':\n",
    "            a = float(input(\"Enter coefficient a: \"))\n",
    "            b = float(input(\"Enter coefficient b: \"))\n",
    "            c = float(input(\"Enter coefficient c: \"))\n",
    "            print(f\"Roots: {find_polynomial_eqn(a, b, c)}\")\n",
    "        elif choice == 'mat_add':\n",
    "            matrix1 = np.array(eval(input(\"Enter first matrix (as list of lists): \")))\n",
    "            matrix2 = np.array(eval(input(\"Enter second matrix (as list of lists): \")))\n",
    "            print(f\"Result: {matrix_addition(matrix1, matrix2)}\")\n",
    "        elif choice == 'mat_sub':\n",
    "            matrix1 = np.array(eval(input(\"Enter first matrix (as list of lists): \")))\n",
    "            matrix2 = np.array(eval(input(\"Enter second matrix (as list of lists): \")))\n",
    "            print(f\"Result: {matrix_subtraction(matrix1, matrix2)}\")\n",
    "        elif choice == 'mat_mul':\n",
    "            matrix1 = np.array(eval(input(\"Enter first matrix (as list of lists): \")))\n",
    "            matrix2 = np.array(eval(input(\"Enter second matrix (as list of lists): \")))\n",
    "            print(f\"Result: {matrix_multiplication(matrix1, matrix2)}\")\n",
    "        elif choice == 'mat_det':\n",
    "            matrix = np.array(eval(input(\"Enter matrix (as list of lists): \")))\n",
    "            print(f\"Result: {matrix_det(matrix)}\")\n",
    "        elif choice == 'mat_inv':\n",
    "            matrix = np.array(eval(input(\"Enter matrix (as list of lists): \")))\n",
    "            print(f\"Result: {matrix_inv(matrix)}\")\n",
    "        elif choice == 'mat_trans':\n",
    "            matrix = np.array(eval(input(\"Enter matrix (as list of lists): \")))\n",
    "            print(f\"Result: {matrix_transpose(matrix)}\")\n",
    "        elif choice == 'store to memory':\n",
    "            memory = last_result\n",
    "            print(f\"Stored {memory} in memory.\")\n",
    "        elif choice == 'recall memory':\n",
    "            print(f\"Recalled memory: {memory}\")\n",
    "        elif choice == 'add to memory':\n",
    "            memory += last_result\n",
    "            print(f\"Added {last_result} to memory. New memory: {memory}\")\n",
    "        elif choice == 'subtract from memory':\n",
    "            memory -= last_result\n",
    "            print(f\"Subtracted {last_result} from memory. New memory: {memory}\")\n",
    "        elif choice == 'clear memory':\n",
    "            memory = 0\n",
    "            print(\"Memory cleared.\")\n",
    "        else:\n",
    "            print(\"Invalid choice. Please select a valid operation or 'q' to quit.\")"
   ]
  },
  {
   "cell_type": "code",
   "execution_count": 254,
   "id": "4dceb0f5-4cf6-4659-94d1-a2e5f0abb9a7",
   "metadata": {},
   "outputs": [
    {
     "data": {
      "text/plain": [
       "5"
      ]
     },
     "execution_count": 254,
     "metadata": {},
     "output_type": "execute_result"
    }
   ],
   "source": [
    "add(2,3)"
   ]
  },
  {
   "cell_type": "code",
   "execution_count": 255,
   "id": "04822571-0019-4711-b8c9-dde88fe5836e",
   "metadata": {},
   "outputs": [
    {
     "data": {
      "text/plain": [
       "-2"
      ]
     },
     "execution_count": 255,
     "metadata": {},
     "output_type": "execute_result"
    }
   ],
   "source": [
    "subtract(0, 2)"
   ]
  },
  {
   "cell_type": "code",
   "execution_count": 256,
   "id": "7db4121e-b6dc-46f5-a72f-fed2c33b99f2",
   "metadata": {},
   "outputs": [
    {
     "data": {
      "text/plain": [
       "15"
      ]
     },
     "execution_count": 256,
     "metadata": {},
     "output_type": "execute_result"
    }
   ],
   "source": [
    "multiply(3, 5)"
   ]
  },
  {
   "cell_type": "code",
   "execution_count": 257,
   "id": "6ee400a4-e95a-4949-bec7-02fb47e7b42b",
   "metadata": {},
   "outputs": [
    {
     "data": {
      "text/plain": [
       "1.0"
      ]
     },
     "execution_count": 257,
     "metadata": {},
     "output_type": "execute_result"
    }
   ],
   "source": [
    "divide(2, 2)"
   ]
  },
  {
   "cell_type": "code",
   "execution_count": 258,
   "id": "f70b7124-0a67-4839-8f20-b485834195e4",
   "metadata": {},
   "outputs": [
    {
     "data": {
      "text/plain": [
       "'Error: Cannot divide by zero'"
      ]
     },
     "execution_count": 258,
     "metadata": {},
     "output_type": "execute_result"
    }
   ],
   "source": [
    "divide(2, 0)"
   ]
  },
  {
   "cell_type": "code",
   "execution_count": 259,
   "id": "e5c7ede8-451a-40cf-8775-c85b37682e72",
   "metadata": {},
   "outputs": [
    {
     "data": {
      "text/plain": [
       "9"
      ]
     },
     "execution_count": 259,
     "metadata": {},
     "output_type": "execute_result"
    }
   ],
   "source": [
    "power(3, 2)"
   ]
  },
  {
   "cell_type": "code",
   "execution_count": 260,
   "id": "0cf5bd71-a9fe-4cfc-b0a7-80025ff2c841",
   "metadata": {},
   "outputs": [
    {
     "data": {
      "text/plain": [
       "4.0"
      ]
     },
     "execution_count": 260,
     "metadata": {},
     "output_type": "execute_result"
    }
   ],
   "source": [
    "square_root(16)"
   ]
  },
  {
   "cell_type": "code",
   "execution_count": 261,
   "id": "819a5a56-5f0e-4a43-902d-ea794b588827",
   "metadata": {},
   "outputs": [
    {
     "data": {
      "text/plain": [
       "3.0"
      ]
     },
     "execution_count": 261,
     "metadata": {},
     "output_type": "execute_result"
    }
   ],
   "source": [
    "variable_root(27,3)"
   ]
  },
  {
   "cell_type": "code",
   "execution_count": 262,
   "id": "cc6aaa93-b194-4e37-bebc-a7f5cee48fa0",
   "metadata": {},
   "outputs": [
    {
     "data": {
      "text/plain": [
       "0.49999999999999994"
      ]
     },
     "execution_count": 262,
     "metadata": {},
     "output_type": "execute_result"
    }
   ],
   "source": [
    "sin(30)"
   ]
  },
  {
   "cell_type": "code",
   "execution_count": 263,
   "id": "d72daf38-bc42-4b1e-83dc-aa5c72a94444",
   "metadata": {},
   "outputs": [
    {
     "data": {
      "text/plain": [
       "0.5000000000000001"
      ]
     },
     "execution_count": 263,
     "metadata": {},
     "output_type": "execute_result"
    }
   ],
   "source": [
    "cos(60)"
   ]
  },
  {
   "cell_type": "code",
   "execution_count": 264,
   "id": "0ee3cf7a-36ca-4417-8509-0c9fa4bf06e4",
   "metadata": {},
   "outputs": [
    {
     "data": {
      "text/plain": [
       "0.9999999999999999"
      ]
     },
     "execution_count": 264,
     "metadata": {},
     "output_type": "execute_result"
    }
   ],
   "source": [
    "tan(45)"
   ]
  },
  {
   "cell_type": "code",
   "execution_count": 265,
   "id": "9a8a3425-faa6-4fbb-956a-bf4849e6e9e1",
   "metadata": {},
   "outputs": [
    {
     "data": {
      "text/plain": [
       "0.5478534738880397"
      ]
     },
     "execution_count": 265,
     "metadata": {},
     "output_type": "execute_result"
    }
   ],
   "source": [
    "sinh(30)"
   ]
  },
  {
   "cell_type": "code",
   "execution_count": 266,
   "id": "32777bd4-c597-4803-bea9-11bf96e85cb7",
   "metadata": {},
   "outputs": [
    {
     "data": {
      "text/plain": [
       "1.600286857702386"
      ]
     },
     "execution_count": 266,
     "metadata": {},
     "output_type": "execute_result"
    }
   ],
   "source": [
    "cosh(60)"
   ]
  },
  {
   "cell_type": "code",
   "execution_count": 267,
   "id": "753c047f-393d-4e47-87f2-8e9126251bf2",
   "metadata": {},
   "outputs": [
    {
     "data": {
      "text/plain": [
       "0.6557942026326724"
      ]
     },
     "execution_count": 267,
     "metadata": {},
     "output_type": "execute_result"
    }
   ],
   "source": [
    "tanh(45)"
   ]
  },
  {
   "cell_type": "code",
   "execution_count": 268,
   "id": "57e2319d-255c-4d8a-b93a-8105edf45a7e",
   "metadata": {},
   "outputs": [
    {
     "data": {
      "text/plain": [
       "1.0"
      ]
     },
     "execution_count": 268,
     "metadata": {},
     "output_type": "execute_result"
    }
   ],
   "source": [
    "logarithm(10)"
   ]
  },
  {
   "cell_type": "code",
   "execution_count": 269,
   "id": "56d4b36f-a5f2-4d4b-b583-c3889bff2d7a",
   "metadata": {},
   "outputs": [
    {
     "data": {
      "text/plain": [
       "2.584962500721156"
      ]
     },
     "execution_count": 269,
     "metadata": {},
     "output_type": "execute_result"
    }
   ],
   "source": [
    "logarithm_base2(6)"
   ]
  },
  {
   "cell_type": "code",
   "execution_count": 270,
   "id": "6e45d180-654d-4160-9de8-cc14f3c45477",
   "metadata": {},
   "outputs": [
    {
     "data": {
      "text/plain": [
       "1.0"
      ]
     },
     "execution_count": 270,
     "metadata": {},
     "output_type": "execute_result"
    }
   ],
   "source": [
    "ln(e_const)"
   ]
  },
  {
   "cell_type": "code",
   "execution_count": 271,
   "id": "9552b9f8-7466-4995-bf82-dec0fb339d43",
   "metadata": {},
   "outputs": [
    {
     "data": {
      "text/plain": [
       "1.0"
      ]
     },
     "execution_count": 271,
     "metadata": {},
     "output_type": "execute_result"
    }
   ],
   "source": [
    "exponential(0)"
   ]
  },
  {
   "cell_type": "code",
   "execution_count": 272,
   "id": "27942f04-424e-4d11-99b5-bca3e59b6c9e",
   "metadata": {},
   "outputs": [
    {
     "data": {
      "text/plain": [
       "2.5"
      ]
     },
     "execution_count": 272,
     "metadata": {},
     "output_type": "execute_result"
    }
   ],
   "source": [
    "mean(1,2,3,4)"
   ]
  },
  {
   "cell_type": "code",
   "execution_count": 273,
   "id": "49232abc-43be-4659-8ee8-280332810e3d",
   "metadata": {},
   "outputs": [
    {
     "data": {
      "text/plain": [
       "1.6666666666666667"
      ]
     },
     "execution_count": 273,
     "metadata": {},
     "output_type": "execute_result"
    }
   ],
   "source": [
    "variance(1,2,3,4)"
   ]
  },
  {
   "cell_type": "code",
   "execution_count": 274,
   "id": "498b554c-b51e-489c-a22c-52e84b8e9619",
   "metadata": {},
   "outputs": [
    {
     "data": {
      "text/plain": [
       "1.2909944487358056"
      ]
     },
     "execution_count": 274,
     "metadata": {},
     "output_type": "execute_result"
    }
   ],
   "source": [
    "standard_deviation(1,2,3,4)"
   ]
  },
  {
   "cell_type": "code",
   "execution_count": 275,
   "id": "866ec9a5-f851-4abe-a484-688e86355d69",
   "metadata": {},
   "outputs": [
    {
     "data": {
      "text/plain": [
       "Fraction(1, 4)"
      ]
     },
     "execution_count": 275,
     "metadata": {},
     "output_type": "execute_result"
    }
   ],
   "source": [
    "fraction_value(0.25)"
   ]
  },
  {
   "cell_type": "code",
   "execution_count": 276,
   "id": "fe0b9df6-d858-49a6-b741-84626728f465",
   "metadata": {},
   "outputs": [
    {
     "data": {
      "text/plain": [
       "Decimal('0.5')"
      ]
     },
     "execution_count": 276,
     "metadata": {},
     "output_type": "execute_result"
    }
   ],
   "source": [
    "decimal_value(1/2)"
   ]
  },
  {
   "cell_type": "code",
   "execution_count": 277,
   "id": "f5b8f30b-90a1-40b8-a5a9-74a3051139b3",
   "metadata": {},
   "outputs": [
    {
     "data": {
      "text/plain": [
       "120"
      ]
     },
     "execution_count": 277,
     "metadata": {},
     "output_type": "execute_result"
    }
   ],
   "source": [
    "factorial(5)"
   ]
  },
  {
   "cell_type": "code",
   "execution_count": 278,
   "id": "98a9b67e-a4b3-4ff6-b459-240cbecfd387",
   "metadata": {},
   "outputs": [
    {
     "data": {
      "text/plain": [
       "20.0"
      ]
     },
     "execution_count": 278,
     "metadata": {},
     "output_type": "execute_result"
    }
   ],
   "source": [
    "permutation(5,2)"
   ]
  },
  {
   "cell_type": "code",
   "execution_count": 279,
   "id": "c550e49c-0d2e-4bb5-b8a8-d43ca6670f76",
   "metadata": {},
   "outputs": [
    {
     "data": {
      "text/plain": [
       "10.0"
      ]
     },
     "execution_count": 279,
     "metadata": {},
     "output_type": "execute_result"
    }
   ],
   "source": [
    "combination(5,2)"
   ]
  },
  {
   "cell_type": "code",
   "execution_count": 280,
   "id": "9efddc40-7931-4b0c-bcdf-284c7720e68a",
   "metadata": {},
   "outputs": [
    {
     "data": {
      "text/plain": [
       "3.28084"
      ]
     },
     "execution_count": 280,
     "metadata": {},
     "output_type": "execute_result"
    }
   ],
   "source": [
    "meters_to_feet(1)"
   ]
  },
  {
   "cell_type": "code",
   "execution_count": 281,
   "id": "5db63d3b-f328-4821-a5f0-4e0f7defd74e",
   "metadata": {},
   "outputs": [
    {
     "data": {
      "text/plain": [
       "1.0"
      ]
     },
     "execution_count": 281,
     "metadata": {},
     "output_type": "execute_result"
    }
   ],
   "source": [
    "feet_to_meters(3.28084)"
   ]
  },
  {
   "cell_type": "code",
   "execution_count": 282,
   "id": "4e35df60-2500-48c7-8bfc-b2c4677b9920",
   "metadata": {},
   "outputs": [
    {
     "data": {
      "text/plain": [
       "2.20462"
      ]
     },
     "execution_count": 282,
     "metadata": {},
     "output_type": "execute_result"
    }
   ],
   "source": [
    "kilograms_to_pounds(1)"
   ]
  },
  {
   "cell_type": "code",
   "execution_count": 283,
   "id": "970a927e-7c96-4cec-aacb-208439399908",
   "metadata": {},
   "outputs": [
    {
     "data": {
      "text/plain": [
       "1.0"
      ]
     },
     "execution_count": 283,
     "metadata": {},
     "output_type": "execute_result"
    }
   ],
   "source": [
    "pounds_to_kilograms(2.20462)"
   ]
  },
  {
   "cell_type": "code",
   "execution_count": 284,
   "id": "121af3e1-f032-44de-aa7d-2e0ff09af173",
   "metadata": {},
   "outputs": [
    {
     "data": {
      "text/plain": [
       "0.264172"
      ]
     },
     "execution_count": 284,
     "metadata": {},
     "output_type": "execute_result"
    }
   ],
   "source": [
    "liters_to_gallons(1)"
   ]
  },
  {
   "cell_type": "code",
   "execution_count": 285,
   "id": "3d2b081e-d004-4ce9-a9a7-facd82ca2b90",
   "metadata": {},
   "outputs": [
    {
     "data": {
      "text/plain": [
       "1.0"
      ]
     },
     "execution_count": 285,
     "metadata": {},
     "output_type": "execute_result"
    }
   ],
   "source": [
    "gallons_to_liters(0.264172)"
   ]
  },
  {
   "cell_type": "code",
   "execution_count": 286,
   "id": "067d25f7-668b-4fee-bc79-e84d4c585f87",
   "metadata": {},
   "outputs": [
    {
     "data": {
      "text/plain": [
       "2.0"
      ]
     },
     "execution_count": 286,
     "metadata": {},
     "output_type": "execute_result"
    }
   ],
   "source": [
    "solve_linear_eqn(2,-4)"
   ]
  },
  {
   "cell_type": "code",
   "execution_count": 287,
   "id": "167c7ec4-ddf4-4951-a6e6-5d084696aa9c",
   "metadata": {},
   "outputs": [
    {
     "data": {
      "text/plain": [
       "(2.0, 1.0)"
      ]
     },
     "execution_count": 287,
     "metadata": {},
     "output_type": "execute_result"
    }
   ],
   "source": [
    "solve_quadratic_eqn(1, -3, 2)"
   ]
  },
  {
   "cell_type": "code",
   "execution_count": 288,
   "id": "7c1b6489-cea0-406f-bd53-5937b7b6d298",
   "metadata": {},
   "outputs": [
    {
     "data": {
      "text/plain": [
       "((-1+2j), (-1-2j))"
      ]
     },
     "execution_count": 288,
     "metadata": {},
     "output_type": "execute_result"
    }
   ],
   "source": [
    "solve_quadratic_eqn(1, 2, 5)"
   ]
  },
  {
   "cell_type": "code",
   "execution_count": 289,
   "id": "08b981a7-7c73-41d5-8f5a-b7eaee8c4080",
   "metadata": {},
   "outputs": [
    {
     "data": {
      "text/plain": [
       "array([2., 1.])"
      ]
     },
     "execution_count": 289,
     "metadata": {},
     "output_type": "execute_result"
    }
   ],
   "source": [
    "find_polynomial_eqn(1,-3,2)"
   ]
  },
  {
   "cell_type": "code",
   "execution_count": 290,
   "id": "79485a61-942b-4a39-a07e-a9644cf3c34e",
   "metadata": {},
   "outputs": [
    {
     "data": {
      "text/plain": [
       "array([1.5+0.8660254j, 1.5-0.8660254j])"
      ]
     },
     "execution_count": 290,
     "metadata": {},
     "output_type": "execute_result"
    }
   ],
   "source": [
    "find_polynomial_eqn(1,-3,3)"
   ]
  },
  {
   "cell_type": "code",
   "execution_count": 291,
   "id": "a23146d2-bd9d-4e2c-9b54-020aa0637151",
   "metadata": {},
   "outputs": [
    {
     "data": {
      "text/plain": [
       "array([[3, 3],\n",
       "       [4, 4]])"
      ]
     },
     "execution_count": 291,
     "metadata": {},
     "output_type": "execute_result"
    }
   ],
   "source": [
    "matrix1=[[2,2],[3,3]]\n",
    "matrix2=[[1,1],[1,1]]\n",
    "matrix_addition(matrix1,matrix2)"
   ]
  },
  {
   "cell_type": "code",
   "execution_count": 292,
   "id": "112ef664-573d-4671-b9d0-a19c32177cf9",
   "metadata": {},
   "outputs": [
    {
     "data": {
      "text/plain": [
       "array([[1, 1],\n",
       "       [2, 2]])"
      ]
     },
     "execution_count": 292,
     "metadata": {},
     "output_type": "execute_result"
    }
   ],
   "source": [
    "matrix_subtraction(matrix1,matrix2)"
   ]
  },
  {
   "cell_type": "code",
   "execution_count": 293,
   "id": "736c88fb-ff97-44f4-98f1-736b8c5c3e84",
   "metadata": {},
   "outputs": [
    {
     "data": {
      "text/plain": [
       "array([6])"
      ]
     },
     "execution_count": 293,
     "metadata": {},
     "output_type": "execute_result"
    }
   ],
   "source": [
    "matrix3=[1,1,1]\n",
    "matrix4=[[2],[2],[2]]\n",
    "matrix_multiplication(matrix3,matrix4)"
   ]
  },
  {
   "cell_type": "code",
   "execution_count": 294,
   "id": "9e0b9435-31d2-4479-853d-93c389c4547d",
   "metadata": {},
   "outputs": [
    {
     "data": {
      "text/plain": [
       "-3.330669073875464e-16"
      ]
     },
     "execution_count": 294,
     "metadata": {},
     "output_type": "execute_result"
    }
   ],
   "source": [
    "matrix_det(matrix1)"
   ]
  },
  {
   "cell_type": "code",
   "execution_count": 295,
   "id": "49d59847-0912-447e-a0bb-ddd9fa94d9a4",
   "metadata": {},
   "outputs": [
    {
     "data": {
      "text/plain": [
       "array([[-9.00719925e+15,  6.00479950e+15],\n",
       "       [ 9.00719925e+15, -6.00479950e+15]])"
      ]
     },
     "execution_count": 295,
     "metadata": {},
     "output_type": "execute_result"
    }
   ],
   "source": [
    "matrix_inv(matrix1)"
   ]
  },
  {
   "cell_type": "code",
   "execution_count": 296,
   "id": "70b48227-ba84-48d6-afc2-c0bdbff5ff2d",
   "metadata": {},
   "outputs": [
    {
     "data": {
      "text/plain": [
       "array([[2, 3],\n",
       "       [2, 3]])"
      ]
     },
     "execution_count": 296,
     "metadata": {},
     "output_type": "execute_result"
    }
   ],
   "source": [
    "matrix_transpose(matrix1)"
   ]
  },
  {
   "cell_type": "code",
   "execution_count": 16,
   "id": "61c98f35-41ff-47b4-847e-e982c83a1281",
   "metadata": {},
   "outputs": [
    {
     "data": {
      "text/plain": [
       "6"
      ]
     },
     "execution_count": 16,
     "metadata": {},
     "output_type": "execute_result"
    }
   ],
   "source": [
    "add(2,4)"
   ]
  },
  {
   "cell_type": "code",
   "execution_count": 60,
   "id": "e7a2626e-47db-4943-b1fe-f37a78031263",
   "metadata": {},
   "outputs": [
    {
     "name": "stdout",
     "output_type": "stream",
     "text": [
      "Available operations:\n",
      "1. Addition (+)\n",
      "2. Subtraction (-)\n",
      "3. Multiplication (*)\n",
      "4. Division (/)\n",
      "5. Power (^)\n",
      "6. Square Root (sqrt)\n",
      "7. Variable Root (root)\n",
      "8. Sine (sin)\n",
      "9. Cosine (cos)\n",
      "10. Tangent (tan)\n",
      "11. Hyperbolic Sine (sinh)\n",
      "12. Hyperbolic Cosine (cosh)\n",
      "13. Hyperbolic Tangent (tanh)\n",
      "14. Logarithm (log10)\n",
      "15. Logarithm Base 2 (log2)\n",
      "16. Natural Logarithm (ln)\n",
      "17. Exponential (exp)\n",
      "18. Mean (mean)\n",
      "19. Variance (variance)\n",
      "20. Standard Deviation (stdev)\n",
      "21. Decimal Value (decimal)\n",
      "22. Fraction Value (fraction)\n",
      "23. Factorial (factorial)\n",
      "24. Permutation (perm)\n",
      "25. Combination (comb)\n",
      "26. Meters to Feet (m2ft)\n",
      "27. Feet to Meters (ft2m)\n",
      "28. Kilograms to Pounds (kg2lb)\n",
      "29. Pounds to Kilograms (lb2kg)\n",
      "30. Liters to Gallons (L2G)\n",
      "31. Gallons to Liters (G2L)\n",
      "32. Solve Linear Equation (linear)\n",
      "33. Solve Quadratic Equation (quadratic)\n",
      "34. Find Polynomial Roots (polynomial)\n",
      "35. Matrix Addition (mat_add)\n",
      "36. Matrix Subtraction (mat_sub)\n",
      "37. Matrix Multiplication (mat_mul)\n",
      "38. Matrix Determinant (mat_det)\n",
      "39. Matrix Inverse (mat_inv)\n",
      "40. Matrix Transpose (mat_trans)\n",
      "41. Store to Memory (M)\n",
      "42. Recall Memory (MR)\n",
      "43. Add to Memory (M+)\n",
      "44. Subtract from Memory (M-)\n",
      "45. Clear Memory (MC)\n",
      "46. Exit (q)\n"
     ]
    },
    {
     "name": "stdin",
     "output_type": "stream",
     "text": [
      "Enter your choice:  +\n",
      "Enter first number:  4\n",
      "Enter second number:  7\n"
     ]
    },
    {
     "name": "stdout",
     "output_type": "stream",
     "text": [
      "Result: 11.0\n"
     ]
    },
    {
     "name": "stdin",
     "output_type": "stream",
     "text": [
      "Enter your choice:  store to memory\n"
     ]
    },
    {
     "name": "stdout",
     "output_type": "stream",
     "text": [
      "Stored 11.0 in memory.\n"
     ]
    },
    {
     "name": "stdin",
     "output_type": "stream",
     "text": [
      "Enter your choice:  recall memory\n"
     ]
    },
    {
     "name": "stdout",
     "output_type": "stream",
     "text": [
      "Recalled memory: 11.0\n"
     ]
    },
    {
     "name": "stdin",
     "output_type": "stream",
     "text": [
      "Enter your choice:  add to memory\n"
     ]
    },
    {
     "name": "stdout",
     "output_type": "stream",
     "text": [
      "Added 11.0 to memory. New memory: 22.0\n"
     ]
    },
    {
     "name": "stdin",
     "output_type": "stream",
     "text": [
      "Enter your choice:  subtract from memory\n"
     ]
    },
    {
     "name": "stdout",
     "output_type": "stream",
     "text": [
      "Subtracted 11.0 from memory. New memory: 11.0\n"
     ]
    },
    {
     "name": "stdin",
     "output_type": "stream",
     "text": [
      "Enter your choice:  clear memory\n"
     ]
    },
    {
     "name": "stdout",
     "output_type": "stream",
     "text": [
      "Memory cleared.\n"
     ]
    },
    {
     "name": "stdin",
     "output_type": "stream",
     "text": [
      "Enter your choice:  q\n"
     ]
    },
    {
     "name": "stdout",
     "output_type": "stream",
     "text": [
      "Goodbye!\n"
     ]
    }
   ],
   "source": [
    "calculator()"
   ]
  },
  {
   "cell_type": "code",
   "execution_count": null,
   "id": "e14ee10a-b650-4000-aaf2-1afe5bfbfdea",
   "metadata": {},
   "outputs": [],
   "source": []
  }
 ],
 "metadata": {
  "kernelspec": {
   "display_name": "Python 3 (ipykernel)",
   "language": "python",
   "name": "python3"
  },
  "language_info": {
   "codemirror_mode": {
    "name": "ipython",
    "version": 3
   },
   "file_extension": ".py",
   "mimetype": "text/x-python",
   "name": "python",
   "nbconvert_exporter": "python",
   "pygments_lexer": "ipython3",
   "version": "3.12.4"
  }
 },
 "nbformat": 4,
 "nbformat_minor": 5
}
